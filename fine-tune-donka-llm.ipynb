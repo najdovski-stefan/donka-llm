{
 "cells": [
  {
   "metadata": {},
   "cell_type": "markdown",
   "source": "# Donka ftsLLM",
   "id": "1218ff0009dc8f59"
  },
  {
   "metadata": {},
   "cell_type": "markdown",
   "source": [
    "Donka fine-tuned small LLM\n",
    "\n",
    "\n",
    "Fine-tuning the Gemma 3 270M Param Model for translation tasks."
   ],
   "id": "6e17398fc69ebf9d"
  },
  {
   "metadata": {},
   "cell_type": "markdown",
   "source": [
    "This notebook is used for fine tuning a small LLM, for translation task:\n",
    "\n",
    "- Macedonian -> English\n",
    "\n",
    "- English -> Macedonian\n"
   ],
   "id": "b65e12cd7727c0a"
  },
  {
   "metadata": {},
   "cell_type": "markdown",
   "source": "## Dependencies",
   "id": "7ea1edc6087ba064"
  },
  {
   "cell_type": "code",
   "execution_count": null,
   "id": "initial_id",
   "metadata": {
    "collapsed": true
   },
   "outputs": [],
   "source": [
    "# Installation steps taken from https://colab.research.google.com/github/unslothai/notebooks/blob/main/nb/Gemma3_(270M).ipynb\n",
    "\n",
    "%%capture\n",
    "import os, re\n",
    "if \"COLAB_\" not in \"\".join(os.environ.keys()):\n",
    "    !pip install unsloth\n",
    "else:\n",
    "    # Do this only in Colab notebooks! Otherwise use pip install unsloth\n",
    "    import torch; v = re.match(r\"[0-9\\.]{3,}\", str(torch.__version__)).group(0)\n",
    "    xformers = \"xformers==\" + (\"0.0.32.post2\" if v == \"2.8.0\" else \"0.0.29.post3\")\n",
    "    !pip install --no-deps bitsandbytes accelerate {xformers} peft trl triton cut_cross_entropy unsloth_zoo\n",
    "    !pip install sentencepiece protobuf \"datasets>=3.4.1,<4.0.0\" \"huggingface_hub>=0.34.0\" hf_transfer\n",
    "    !pip install --no-deps unsloth\n",
    "!pip install transformers==4.55.4\n",
    "!pip install --no-deps trl==0.22.2"
   ]
  },
  {
   "metadata": {},
   "cell_type": "markdown",
   "source": [
    "We are going to use **Unsloth** for finetuning the model, good for low memory GPU's\n",
    "\n",
    "- [Unsloth Docs](https://docs.unsloth.ai/).\n",
    "- For fine tunning Google Colab."
   ],
   "id": "a08a29e04cb19459"
  },
  {
   "metadata": {},
   "cell_type": "markdown",
   "source": "## Model Setup",
   "id": "ffe7f17e53e807b"
  },
  {
   "metadata": {},
   "cell_type": "code",
   "outputs": [],
   "execution_count": null,
   "source": [
    "from unsloth import FastModel\n",
    "import torch\n",
    "\n",
    "max_seq_length = 2048\n",
    "\n",
    "model, tokenizer = FastModel.from_pretrained(\n",
    "    model_name = \"unsloth/gemma-3-270m-it\",\n",
    "    max_seq_length = max_seq_length,\n",
    "    load_in_4bit = False,\n",
    "    load_in_8bit = False,\n",
    "    full_finetuning = False,\n",
    "    # token = \"hf_...\", # use one if using gated models\n",
    ")"
   ],
   "id": "e94a0308f7fadd8a"
  },
  {
   "metadata": {},
   "cell_type": "markdown",
   "source": "## LoRA Adapters",
   "id": "369dcff72508d4e4"
  },
  {
   "metadata": {
    "ExecuteTime": {
     "end_time": "2025-09-18T08:47:06.995908Z",
     "start_time": "2025-09-18T08:47:06.994698Z"
    }
   },
   "cell_type": "code",
   "outputs": [],
   "execution_count": null,
   "source": [
    "model = FastModel.get_peft_model(\n",
    "    model,\n",
    "    r = 128, # Choose any number > 0 ! Suggested 8, 16, 32, 64, 128\n",
    "    target_modules = [\"q_proj\", \"k_proj\", \"v_proj\", \"o_proj\",\n",
    "                      \"gate_proj\", \"up_proj\", \"down_proj\",],\n",
    "    lora_alpha = 128,\n",
    "    lora_dropout = 0, # Supports any, but = 0 is optimized\n",
    "    bias = \"none\",    # Supports any, but = \"none\" is optimized\n",
    "    # [NEW] \"unsloth\" uses 30% less VRAM, fits 2x larger batch sizes!\n",
    "    use_gradient_checkpointing = \"unsloth\", # True or \"unsloth\" for very long context\n",
    "    random_state = 3407,\n",
    "    use_rslora = False,  # We support rank stabilized LoRA\n",
    "    loftq_config = None, # And LoftQ\n",
    ")"
   ],
   "id": "575af8f7b40c6050"
  },
  {
   "metadata": {},
   "cell_type": "markdown",
   "source": "## Dataset",
   "id": "d4b8356baee07f98"
  },
  {
   "metadata": {},
   "cell_type": "code",
   "outputs": [],
   "execution_count": null,
   "source": "",
   "id": "5f6185a989422637"
  }
 ],
 "metadata": {
  "kernelspec": {
   "display_name": "Python 3",
   "language": "python",
   "name": "python3"
  },
  "language_info": {
   "codemirror_mode": {
    "name": "ipython",
    "version": 2
   },
   "file_extension": ".py",
   "mimetype": "text/x-python",
   "name": "python",
   "nbconvert_exporter": "python",
   "pygments_lexer": "ipython2",
   "version": "2.7.6"
  }
 },
 "nbformat": 4,
 "nbformat_minor": 5
}
